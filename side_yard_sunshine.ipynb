{
 "cells": [
  {
   "cell_type": "markdown",
   "id": "70ccc7cf-3f1c-47b7-816d-c7c77d3e86ce",
   "metadata": {},
   "source": [
    "# Side Yard Sun Using Rotating Matrices"
   ]
  },
  {
   "cell_type": "markdown",
   "id": "31a0af56-21b4-45b0-a94e-216763aa0ff3",
   "metadata": {},
   "source": [
    "In this notebook, I use a vector approach to calculating the angle of the sun in my side yard. I start by calculating the sun's ray at a solar system level (making some simplifying astronomy assumptions), and through several changes to the basis, I zoom into the level of my house. "
   ]
  },
  {
   "cell_type": "code",
   "execution_count": 1,
   "id": "5c13f27d-d8a4-4e10-8ac7-49ff335e18c5",
   "metadata": {},
   "outputs": [],
   "source": [
    "import numpy as np"
   ]
  },
  {
   "cell_type": "markdown",
   "id": "d85a6bf5-e4d5-41be-b6df-aced17e07238",
   "metadata": {},
   "source": [
    "In the base coordinate system $x$ and $y$ are in the earth's orbital plane around the sun with $x$ pointing toward earth from the sun at the winter solstice and $y$ pointing toward earth at the spring equinox. $z$ is the cross product of $x$ and $y$ and is coming straight \"up\" out of the orbital plane. \n",
    "\n",
    "Another way to think of this coordinate system is as fixed to the stars. $x$ is in the direction of the Taurus constellation. $y$ is pointing to Leo.\n",
    "\n",
    "I'm assuming earth has a circular orbit around the sun which is not quite accurate, but close enough for what I'm calculating.\n",
    "\n",
    "Let $\\theta$ be the angle between the sun to earth ray and $x$.\n",
    "\n",
    "<img src=\"solar_coordinates.png\" style=\"width: 400px;\">\n",
    "\n",
    "The direction of the sun's ray onto earth can be represented as the unit vector\n",
    "$$ \\mathbf{r} = \\begin{bmatrix}\n",
    "\\cos \\theta \\\\\n",
    "\\sin \\theta \\\\\n",
    "0 \n",
    "\\end{bmatrix}$$"
   ]
  },
  {
   "cell_type": "code",
   "execution_count": 2,
   "id": "b1a953c5-0023-4daa-91b5-3ba8d84b33e7",
   "metadata": {},
   "outputs": [],
   "source": [
    "# define in numpy terms\n",
    "def ray(theta):\n",
    "    return np.array([[np.cos(theta)],\n",
    "                     [np.sin(theta)],\n",
    "                     [0]])"
   ]
  },
  {
   "cell_type": "markdown",
   "id": "aaf90165-da7b-4474-b259-6a8c1fae1549",
   "metadata": {},
   "source": [
    "The first transformation is to convert to the coordinate system in the equatorial plane (imagine an infinite sheet of paper going through the equator). Let's call this orthonormal basis $\\mathcal{E}$.\n",
    "\n",
    "The tilt of the earth is $23.5^{\\circ}$.\n",
    "\n",
    "$$ [\\mathbf{r}]_\\mathcal{E} = \\begin{bmatrix}\n",
    "\\cos 23.5^{\\circ} & 0 & -\\sin 23.5^{\\circ} \\\\\n",
    "0 & 1 & 0 \\\\\n",
    "\\sin 23.5^{\\circ} & 0 & \\cos 23.5^{\\circ}\n",
    "\\end{bmatrix} \\mathbf{r}$$"
   ]
  },
  {
   "cell_type": "code",
   "execution_count": 3,
   "id": "058979d4-d582-4855-a833-babdfc0cd6d2",
   "metadata": {},
   "outputs": [],
   "source": [
    "# define in numpy terms\n",
    "\n",
    "tilt = 23.5*np.pi/180 # converted to radians\n",
    "E = np.matrix([[np.cos(tilt), 0, -np.sin(tilt)],\n",
    "               [0,            1, 0],\n",
    "               [np.sin(tilt), 0, np.cos(tilt)]])"
   ]
  },
  {
   "cell_type": "markdown",
   "id": "c36e982a-197e-4bc9-926f-b2a50a1796f4",
   "metadata": {},
   "source": [
    "The second transformation is to spin the earth. This basis $\\mathcal{Q}$ represents the perspective of earth from a person on the equator. $\\mathcal{Q}_x$ is up toward the sky, $\\mathcal{Q}_y$ is east, and $\\mathcal{Q}_z$ is north.\n",
    "\n",
    "Let $\\phi$ be the angle of rotation of the earth relative to the $x$-axis of $\\mathcal{E}$. These earth rotations are measured with reference to the stars, not in reference to the sun as we typically think of rotation.\n",
    "\n",
    "$$ [\\mathbf{r}]_\\mathcal{Q} = \\begin{bmatrix}\n",
    "\\cos \\phi &  \\sin \\phi & 0\\\\\n",
    "-\\sin \\phi & \\cos \\phi & 0\\\\\n",
    "0 & 0 & 1\n",
    "\\end{bmatrix} [\\mathbf{r}]_\\mathcal{E}$$\n",
    "\n"
   ]
  },
  {
   "cell_type": "code",
   "execution_count": 4,
   "id": "4b3d4096-921e-4e5d-906f-9aa1ea60f8ed",
   "metadata": {},
   "outputs": [],
   "source": [
    "def Q(phi):\n",
    "    return np.matrix([[np.cos(phi),  np.sin(phi), 0],\n",
    "                      [-np.sin(phi), np.cos(phi), 0],\n",
    "                      [0,            0,           1]])"
   ]
  },
  {
   "cell_type": "markdown",
   "id": "1f87c7e6-2e1a-4e8f-99b3-d79bc511c770",
   "metadata": {},
   "source": [
    "The third transformation is to move from the equator to my latitude with basis $\\mathcal{L}$.\n",
    "\n",
    "The latitude of my house is roughly $33^{\\circ}$.\n",
    "\n",
    "$$ [\\mathbf{r}]_\\mathcal{L} = \\begin{bmatrix}\n",
    "\\cos 33^{\\circ} & 0 & \\sin 33^{\\circ} \\\\\n",
    "0 & 1 & 0 \\\\\n",
    "-\\sin 33^{\\circ} & 0 & \\cos 33^{\\circ}\n",
    "\\end{bmatrix} [\\mathbf{r}]_\\mathcal{Q}$$"
   ]
  },
  {
   "cell_type": "code",
   "execution_count": 5,
   "id": "13f9d372-d21c-4363-b5e8-e23d78480006",
   "metadata": {},
   "outputs": [],
   "source": [
    "# in numpy terms\n",
    "latitude = 33*np.pi/180 # converted to radians\n",
    "L = np.matrix([[np.cos(latitude),  0, np.sin(latitude)],\n",
    "               [0,                 1, 0],\n",
    "               [-np.sin(latitude), 0, np.cos(latitude)]])"
   ]
  },
  {
   "cell_type": "markdown",
   "id": "f358495c-ceff-4af0-b969-073ad106e486",
   "metadata": {},
   "source": [
    "The final transformation is to orient the coordinates to my side yard fence which runs from northwest to southeast at a $23^{\\circ}$ angle with the east-west axis.\n",
    "\n",
    "<img src=\"fence_coordinates.png\" style=\"width: 400px;\">\n",
    "\n",
    "The transformation to this final basis $\\mathcal{F}$ is \n",
    "\n",
    "$$ [\\mathbf{r}]_\\mathcal{F} = \\begin{bmatrix}\n",
    "1 & 0 & 0 \\\\\n",
    "0 & \\cos 23^{\\circ} & -\\sin 23^{\\circ} \\\\\n",
    "0 & \\sin 23^{\\circ}  & \\cos 23^{\\circ} \n",
    "\\end{bmatrix} [\\mathbf{r}]_\\mathcal{L}$$"
   ]
  },
  {
   "cell_type": "code",
   "execution_count": 6,
   "id": "63699e26-4e09-45f7-ab6d-1cbf6c6b94d0",
   "metadata": {},
   "outputs": [],
   "source": [
    "# in terms of numpy\n",
    "fence_angle = 23*np.pi/180 # convert to radians\n",
    "F = np.matrix([[1, 0,                   0],\n",
    "               [0, np.cos(fence_angle), -np.sin(fence_angle)], \n",
    "               [0, np.sin(fence_angle), np.cos(fence_angle)]])\n"
   ]
  },
  {
   "cell_type": "markdown",
   "id": "46ea4912-bbe8-4c22-b1fe-2d79e3669e44",
   "metadata": {},
   "source": [
    "Now we're ready to put this all together. In order to get the suns ray in the fence coordinate system, we can string together these matrices. In order to make it all dependent on only one variable, I can substitute $\\phi = 366.25 \\theta$ because there are 365.25 rotations of the earth each year with reference to the sun--one more rotation when the reference point is the stars. If you're not convinced think about how many times the earth spins if the same side of the earth was always facing the sun. That would be 0 \"sun days\" and 1 \"star day\".  \n",
    "\n",
    "To calculate whether my plants are in shade or direct sunshine, I'll use the $\\mathcal{F}_x$ and $\\mathcal{F}_z$ components to cast a shadow and check if it covers the entire 6 ft alley. I'm only interested in when $\\mathcal{F}_x < 0$ (that is, when it's daytime) and when $\\mathcal{F}_z > 0$ since otherwise the plants are shaded by the house."
   ]
  },
  {
   "cell_type": "code",
   "execution_count": 7,
   "id": "01260163-17fa-4077-94dc-4c4a28ed5ac2",
   "metadata": {},
   "outputs": [],
   "source": [
    "fence_height_ft = 5.5\n",
    "alley_length_ft = 6\n",
    "\n",
    "def daytime(theta):\n",
    "    fence_ray = F @ L @ Q(366.25*theta) @ E @ ray(theta)\n",
    "    up = fence_ray[0, 0]\n",
    "    return up < 0\n",
    "\n",
    "def in_sun(x, theta):\n",
    "    fence_ray = F @ L @ Q(366.25*theta) @ E @ ray(theta)\n",
    "    up = fence_ray[0, 0]\n",
    "    out = fence_ray[2, 0]\n",
    "    if up >= 0:\n",
    "        return False\n",
    "    if out < 0:\n",
    "        return False\n",
    "    shadow = fence_height_ft*out/(-up)\n",
    "    if shadow > x:\n",
    "        return False\n",
    "    else:\n",
    "        return True\n",
    "    \n",
    "def take_sample(fcn, n, subsections):\n",
    "    sector = 2*np.pi/subsections\n",
    "    for idx in range(subsections):\n",
    "        positive_samples = 0\n",
    "        for theta in np.linspace(idx*sector, (idx+1)*sector - sector/n, n):\n",
    "            if fcn(theta):\n",
    "                positive_samples += 1\n",
    "        print(positive_samples/n)\n",
    "        \n",
    "def percentage_daytime(n: int = 10000, subsections: int = 1):\n",
    "    return take_sample(daytime, n, subsections)\n",
    "    \n",
    "def percentage_in_sun(x, n: int = 10000, subsections: int = 1):\n",
    "    return take_sample(lambda y: in_sun(x, y), n, subsections)"
   ]
  },
  {
   "cell_type": "markdown",
   "id": "94b48abb-a6f1-4304-a80d-86f275a50b09",
   "metadata": {},
   "source": [
    "Based on the result below, my plants in the side yard receive direct sunshine 25% of the year capturing half of the sunshine available."
   ]
  },
  {
   "cell_type": "code",
   "execution_count": 8,
   "id": "2be61768-e195-4967-9e7d-767d7bae7106",
   "metadata": {},
   "outputs": [
    {
     "name": "stdout",
     "output_type": "stream",
     "text": [
      "0.2456\n"
     ]
    }
   ],
   "source": [
    "percentage_in_sun(alley_length_ft)"
   ]
  },
  {
   "cell_type": "code",
   "execution_count": 9,
   "id": "8d5f6ffd-7a97-4da4-9996-3e0635305683",
   "metadata": {},
   "outputs": [
    {
     "name": "stdout",
     "output_type": "stream",
     "text": [
      "0.4999\n"
     ]
    }
   ],
   "source": [
    "percentage_daytime()"
   ]
  },
  {
   "cell_type": "markdown",
   "id": "e90d0a33-73d5-48ce-b524-cb91994ff1a2",
   "metadata": {},
   "source": [
    "The summer receives the greater portion of the sunshine when the sun is not so far south. "
   ]
  },
  {
   "cell_type": "code",
   "execution_count": 10,
   "id": "404e4a0f-0deb-4d09-b411-b1f56f3811c8",
   "metadata": {},
   "outputs": [
    {
     "name": "stdout",
     "output_type": "stream",
     "text": [
      "0.1676\n",
      "0.3236\n",
      "0.3227\n",
      "0.1688\n"
     ]
    }
   ],
   "source": [
    "percentage_in_sun(alley_length_ft, subsections=4)"
   ]
  },
  {
   "cell_type": "code",
   "execution_count": 11,
   "id": "07ef002e-31d4-43f7-a7b1-a8d380552318",
   "metadata": {},
   "outputs": [
    {
     "name": "stdout",
     "output_type": "stream",
     "text": [
      "0.443\n",
      "0.5574\n",
      "0.5558\n",
      "0.4424\n"
     ]
    }
   ],
   "source": [
    "percentage_daytime(subsections=4)"
   ]
  },
  {
   "cell_type": "markdown",
   "id": "7507f38b-72f6-4935-baca-334a0539861f",
   "metadata": {},
   "source": [
    "On a month by month basis, we see that most of the year has 30-ish% direct sunshine, but around the winter solstice, it drops dramatically down to 5%. These 12 categories don't perfectly match the 12 calendar months of the year, but is rather a even division in 12 parts starting with the winter solstice."
   ]
  },
  {
   "cell_type": "code",
   "execution_count": 12,
   "id": "fa6b2e1d-1cc4-4289-b9e7-509a13b0c328",
   "metadata": {},
   "outputs": [
    {
     "name": "stdout",
     "output_type": "stream",
     "text": [
      "0.0484\n",
      "0.2037\n",
      "0.2507\n",
      "0.3005\n",
      "0.3362\n",
      "0.3345\n",
      "0.333\n",
      "0.3384\n",
      "0.2964\n",
      "0.2519\n",
      "0.2067\n",
      "0.0471\n"
     ]
    }
   ],
   "source": [
    "percentage_in_sun(alley_length_ft, subsections=12)"
   ]
  },
  {
   "cell_type": "markdown",
   "id": "87df9d1e-1405-474f-a1cd-5a21d5294b55",
   "metadata": {},
   "source": [
    "The nature of this problem makes rough estimates acceptable, but the estimate could definitely be improved by taking cloud cover into account (although this is suprisingly rare in Southern California)."
   ]
  },
  {
   "cell_type": "code",
   "execution_count": null,
   "id": "91ab3049-dbf6-449e-93f2-a2f70b67b3f5",
   "metadata": {},
   "outputs": [],
   "source": []
  }
 ],
 "metadata": {
  "kernelspec": {
   "display_name": "Python 3",
   "language": "python",
   "name": "python3"
  },
  "language_info": {
   "codemirror_mode": {
    "name": "ipython",
    "version": 3
   },
   "file_extension": ".py",
   "mimetype": "text/x-python",
   "name": "python",
   "nbconvert_exporter": "python",
   "pygments_lexer": "ipython3",
   "version": "3.8.8"
  }
 },
 "nbformat": 4,
 "nbformat_minor": 5
}
